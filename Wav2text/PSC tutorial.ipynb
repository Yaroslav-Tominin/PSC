{
 "cells": [
  {
   "cell_type": "markdown",
   "id": "b27a18c1",
   "metadata": {},
   "source": [
    "### See https://huggingface.co/blog/fine-tune-xlsr-wav2vec2 for more details"
   ]
  },
  {
   "cell_type": "markdown",
   "id": "7cb0389c",
   "metadata": {},
   "source": [
    "### All required installations"
   ]
  },
  {
   "cell_type": "code",
   "execution_count": 1,
   "id": "011cc2af",
   "metadata": {
    "scrolled": true
   },
   "outputs": [
    {
     "name": "stdout",
     "output_type": "stream",
     "text": [
      "Requirement already satisfied: datasets==1.13.3 in /Users/vlad/opt/anaconda3/lib/python3.9/site-packages (1.13.3)\n",
      "Requirement already satisfied: pandas in /Users/vlad/opt/anaconda3/lib/python3.9/site-packages (from datasets==1.13.3) (1.3.4)\n",
      "Requirement already satisfied: pyarrow!=4.0.0,>=1.0.0 in /Users/vlad/opt/anaconda3/lib/python3.9/site-packages (from datasets==1.13.3) (6.0.1)\n",
      "Requirement already satisfied: aiohttp in /Users/vlad/opt/anaconda3/lib/python3.9/site-packages (from datasets==1.13.3) (3.8.1)\n",
      "Requirement already satisfied: packaging in /Users/vlad/opt/anaconda3/lib/python3.9/site-packages (from datasets==1.13.3) (21.0)\n",
      "Requirement already satisfied: numpy>=1.17 in /Users/vlad/opt/anaconda3/lib/python3.9/site-packages (from datasets==1.13.3) (1.20.3)\n",
      "Collecting huggingface-hub<0.1.0,>=0.0.19\n",
      "  Using cached huggingface_hub-0.0.19-py3-none-any.whl (56 kB)\n",
      "Requirement already satisfied: dill in /Users/vlad/opt/anaconda3/lib/python3.9/site-packages (from datasets==1.13.3) (0.3.4)\n",
      "Requirement already satisfied: tqdm>=4.62.1 in /Users/vlad/opt/anaconda3/lib/python3.9/site-packages (from datasets==1.13.3) (4.62.3)\n",
      "Requirement already satisfied: xxhash in /Users/vlad/opt/anaconda3/lib/python3.9/site-packages (from datasets==1.13.3) (2.0.2)\n",
      "Requirement already satisfied: fsspec[http]>=2021.05.0 in /Users/vlad/opt/anaconda3/lib/python3.9/site-packages (from datasets==1.13.3) (2021.8.1)\n",
      "Requirement already satisfied: requests>=2.19.0 in /Users/vlad/opt/anaconda3/lib/python3.9/site-packages (from datasets==1.13.3) (2.26.0)\n",
      "Requirement already satisfied: multiprocess in /Users/vlad/opt/anaconda3/lib/python3.9/site-packages (from datasets==1.13.3) (0.70.12.2)\n",
      "Requirement already satisfied: typing-extensions in /Users/vlad/opt/anaconda3/lib/python3.9/site-packages (from huggingface-hub<0.1.0,>=0.0.19->datasets==1.13.3) (3.10.0.2)\n",
      "Requirement already satisfied: filelock in /Users/vlad/opt/anaconda3/lib/python3.9/site-packages (from huggingface-hub<0.1.0,>=0.0.19->datasets==1.13.3) (3.3.1)\n",
      "Requirement already satisfied: pyyaml in /Users/vlad/opt/anaconda3/lib/python3.9/site-packages (from huggingface-hub<0.1.0,>=0.0.19->datasets==1.13.3) (6.0)\n",
      "Requirement already satisfied: pyparsing>=2.0.2 in /Users/vlad/opt/anaconda3/lib/python3.9/site-packages (from packaging->datasets==1.13.3) (3.0.4)\n",
      "Requirement already satisfied: charset-normalizer~=2.0.0 in /Users/vlad/opt/anaconda3/lib/python3.9/site-packages (from requests>=2.19.0->datasets==1.13.3) (2.0.4)\n",
      "Requirement already satisfied: idna<4,>=2.5 in /Users/vlad/opt/anaconda3/lib/python3.9/site-packages (from requests>=2.19.0->datasets==1.13.3) (3.2)\n",
      "Requirement already satisfied: urllib3<1.27,>=1.21.1 in /Users/vlad/opt/anaconda3/lib/python3.9/site-packages (from requests>=2.19.0->datasets==1.13.3) (1.26.7)\n",
      "Requirement already satisfied: certifi>=2017.4.17 in /Users/vlad/opt/anaconda3/lib/python3.9/site-packages (from requests>=2.19.0->datasets==1.13.3) (2021.10.8)\n",
      "Requirement already satisfied: yarl<2.0,>=1.0 in /Users/vlad/opt/anaconda3/lib/python3.9/site-packages (from aiohttp->datasets==1.13.3) (1.7.2)\n",
      "Requirement already satisfied: multidict<7.0,>=4.5 in /Users/vlad/opt/anaconda3/lib/python3.9/site-packages (from aiohttp->datasets==1.13.3) (5.2.0)\n",
      "Requirement already satisfied: async-timeout<5.0,>=4.0.0a3 in /Users/vlad/opt/anaconda3/lib/python3.9/site-packages (from aiohttp->datasets==1.13.3) (4.0.1)\n",
      "Requirement already satisfied: frozenlist>=1.1.1 in /Users/vlad/opt/anaconda3/lib/python3.9/site-packages (from aiohttp->datasets==1.13.3) (1.2.0)\n",
      "Requirement already satisfied: aiosignal>=1.1.2 in /Users/vlad/opt/anaconda3/lib/python3.9/site-packages (from aiohttp->datasets==1.13.3) (1.2.0)\n",
      "Requirement already satisfied: attrs>=17.3.0 in /Users/vlad/opt/anaconda3/lib/python3.9/site-packages (from aiohttp->datasets==1.13.3) (21.2.0)\n",
      "Requirement already satisfied: python-dateutil>=2.7.3 in /Users/vlad/opt/anaconda3/lib/python3.9/site-packages (from pandas->datasets==1.13.3) (2.8.2)\n",
      "Requirement already satisfied: pytz>=2017.3 in /Users/vlad/opt/anaconda3/lib/python3.9/site-packages (from pandas->datasets==1.13.3) (2021.3)\n",
      "Requirement already satisfied: six>=1.5 in /Users/vlad/opt/anaconda3/lib/python3.9/site-packages (from python-dateutil>=2.7.3->pandas->datasets==1.13.3) (1.16.0)\n",
      "Installing collected packages: huggingface-hub\n",
      "  Attempting uninstall: huggingface-hub\n",
      "    Found existing installation: huggingface-hub 0.1.0\n",
      "    Uninstalling huggingface-hub-0.1.0:\n",
      "      Successfully uninstalled huggingface-hub-0.1.0\n",
      "Successfully installed huggingface-hub-0.0.19\n",
      "Requirement already satisfied: transformers==4.11.3 in /Users/vlad/opt/anaconda3/lib/python3.9/site-packages (4.11.3)\n",
      "Requirement already satisfied: packaging>=20.0 in /Users/vlad/opt/anaconda3/lib/python3.9/site-packages (from transformers==4.11.3) (21.0)\n",
      "Requirement already satisfied: sacremoses in /Users/vlad/opt/anaconda3/lib/python3.9/site-packages (from transformers==4.11.3) (0.0.46)\n",
      "Requirement already satisfied: huggingface-hub>=0.0.17 in /Users/vlad/opt/anaconda3/lib/python3.9/site-packages (from transformers==4.11.3) (0.0.19)\n",
      "Requirement already satisfied: requests in /Users/vlad/opt/anaconda3/lib/python3.9/site-packages (from transformers==4.11.3) (2.26.0)\n",
      "Requirement already satisfied: tqdm>=4.27 in /Users/vlad/opt/anaconda3/lib/python3.9/site-packages (from transformers==4.11.3) (4.62.3)\n",
      "Requirement already satisfied: filelock in /Users/vlad/opt/anaconda3/lib/python3.9/site-packages (from transformers==4.11.3) (3.3.1)\n",
      "Requirement already satisfied: numpy>=1.17 in /Users/vlad/opt/anaconda3/lib/python3.9/site-packages (from transformers==4.11.3) (1.20.3)\n",
      "Requirement already satisfied: tokenizers<0.11,>=0.10.1 in /Users/vlad/opt/anaconda3/lib/python3.9/site-packages (from transformers==4.11.3) (0.10.3)\n",
      "Requirement already satisfied: pyyaml>=5.1 in /Users/vlad/opt/anaconda3/lib/python3.9/site-packages (from transformers==4.11.3) (6.0)\n",
      "Requirement already satisfied: regex!=2019.12.17 in /Users/vlad/opt/anaconda3/lib/python3.9/site-packages (from transformers==4.11.3) (2021.8.3)\n",
      "Requirement already satisfied: typing-extensions in /Users/vlad/opt/anaconda3/lib/python3.9/site-packages (from huggingface-hub>=0.0.17->transformers==4.11.3) (3.10.0.2)\n",
      "Requirement already satisfied: pyparsing>=2.0.2 in /Users/vlad/opt/anaconda3/lib/python3.9/site-packages (from packaging>=20.0->transformers==4.11.3) (3.0.4)\n",
      "Requirement already satisfied: charset-normalizer~=2.0.0 in /Users/vlad/opt/anaconda3/lib/python3.9/site-packages (from requests->transformers==4.11.3) (2.0.4)\n",
      "Requirement already satisfied: idna<4,>=2.5 in /Users/vlad/opt/anaconda3/lib/python3.9/site-packages (from requests->transformers==4.11.3) (3.2)\n",
      "Requirement already satisfied: certifi>=2017.4.17 in /Users/vlad/opt/anaconda3/lib/python3.9/site-packages (from requests->transformers==4.11.3) (2021.10.8)\n",
      "Requirement already satisfied: urllib3<1.27,>=1.21.1 in /Users/vlad/opt/anaconda3/lib/python3.9/site-packages (from requests->transformers==4.11.3) (1.26.7)\n",
      "Requirement already satisfied: six in /Users/vlad/opt/anaconda3/lib/python3.9/site-packages (from sacremoses->transformers==4.11.3) (1.16.0)\n",
      "Requirement already satisfied: click in /Users/vlad/opt/anaconda3/lib/python3.9/site-packages (from sacremoses->transformers==4.11.3) (8.0.3)\n",
      "Requirement already satisfied: joblib in /Users/vlad/opt/anaconda3/lib/python3.9/site-packages (from sacremoses->transformers==4.11.3) (1.1.0)\n",
      "Collecting huggingface_hub==0.1\n",
      "  Using cached huggingface_hub-0.1.0-py3-none-any.whl (59 kB)\n",
      "Requirement already satisfied: packaging>=20.9 in /Users/vlad/opt/anaconda3/lib/python3.9/site-packages (from huggingface_hub==0.1) (21.0)\n",
      "Requirement already satisfied: tqdm in /Users/vlad/opt/anaconda3/lib/python3.9/site-packages (from huggingface_hub==0.1) (4.62.3)\n",
      "Requirement already satisfied: filelock in /Users/vlad/opt/anaconda3/lib/python3.9/site-packages (from huggingface_hub==0.1) (3.3.1)\n",
      "Requirement already satisfied: pyyaml in /Users/vlad/opt/anaconda3/lib/python3.9/site-packages (from huggingface_hub==0.1) (6.0)\n",
      "Requirement already satisfied: requests in /Users/vlad/opt/anaconda3/lib/python3.9/site-packages (from huggingface_hub==0.1) (2.26.0)\n",
      "Requirement already satisfied: typing-extensions in /Users/vlad/opt/anaconda3/lib/python3.9/site-packages (from huggingface_hub==0.1) (3.10.0.2)\n",
      "Requirement already satisfied: pyparsing>=2.0.2 in /Users/vlad/opt/anaconda3/lib/python3.9/site-packages (from packaging>=20.9->huggingface_hub==0.1) (3.0.4)\n"
     ]
    },
    {
     "name": "stdout",
     "output_type": "stream",
     "text": [
      "Requirement already satisfied: certifi>=2017.4.17 in /Users/vlad/opt/anaconda3/lib/python3.9/site-packages (from requests->huggingface_hub==0.1) (2021.10.8)\n",
      "Requirement already satisfied: idna<4,>=2.5 in /Users/vlad/opt/anaconda3/lib/python3.9/site-packages (from requests->huggingface_hub==0.1) (3.2)\n",
      "Requirement already satisfied: urllib3<1.27,>=1.21.1 in /Users/vlad/opt/anaconda3/lib/python3.9/site-packages (from requests->huggingface_hub==0.1) (1.26.7)\n",
      "Requirement already satisfied: charset-normalizer~=2.0.0 in /Users/vlad/opt/anaconda3/lib/python3.9/site-packages (from requests->huggingface_hub==0.1) (2.0.4)\n",
      "Installing collected packages: huggingface-hub\n",
      "  Attempting uninstall: huggingface-hub\n",
      "    Found existing installation: huggingface-hub 0.0.19\n",
      "    Uninstalling huggingface-hub-0.0.19:\n",
      "      Successfully uninstalled huggingface-hub-0.0.19\n",
      "\u001b[31mERROR: pip's dependency resolver does not currently take into account all the packages that are installed. This behaviour is the source of the following dependency conflicts.\n",
      "datasets 1.13.3 requires huggingface-hub<0.1.0,>=0.0.19, but you have huggingface-hub 0.1.0 which is incompatible.\u001b[0m\n",
      "Successfully installed huggingface-hub-0.1.0\n",
      "Requirement already satisfied: torchaudio in /Users/vlad/opt/anaconda3/lib/python3.9/site-packages (0.10.0)\n",
      "Requirement already satisfied: torch==1.10.0 in /Users/vlad/opt/anaconda3/lib/python3.9/site-packages (from torchaudio) (1.10.0)\n",
      "Requirement already satisfied: typing-extensions in /Users/vlad/opt/anaconda3/lib/python3.9/site-packages (from torch==1.10.0->torchaudio) (3.10.0.2)\n",
      "Requirement already satisfied: librosa in /Users/vlad/opt/anaconda3/lib/python3.9/site-packages (0.8.1)\n",
      "Requirement already satisfied: audioread>=2.0.0 in /Users/vlad/opt/anaconda3/lib/python3.9/site-packages (from librosa) (2.1.9)\n",
      "Requirement already satisfied: soundfile>=0.10.2 in /Users/vlad/opt/anaconda3/lib/python3.9/site-packages (from librosa) (0.10.3.post1)\n",
      "Requirement already satisfied: scipy>=1.0.0 in /Users/vlad/opt/anaconda3/lib/python3.9/site-packages (from librosa) (1.7.1)\n",
      "Requirement already satisfied: scikit-learn!=0.19.0,>=0.14.0 in /Users/vlad/opt/anaconda3/lib/python3.9/site-packages (from librosa) (0.24.2)\n",
      "Requirement already satisfied: resampy>=0.2.2 in /Users/vlad/opt/anaconda3/lib/python3.9/site-packages (from librosa) (0.2.2)\n",
      "Requirement already satisfied: joblib>=0.14 in /Users/vlad/opt/anaconda3/lib/python3.9/site-packages (from librosa) (1.1.0)\n",
      "Requirement already satisfied: packaging>=20.0 in /Users/vlad/opt/anaconda3/lib/python3.9/site-packages (from librosa) (21.0)\n",
      "Requirement already satisfied: numba>=0.43.0 in /Users/vlad/opt/anaconda3/lib/python3.9/site-packages (from librosa) (0.54.1)\n",
      "Requirement already satisfied: numpy>=1.15.0 in /Users/vlad/opt/anaconda3/lib/python3.9/site-packages (from librosa) (1.20.3)\n",
      "Requirement already satisfied: decorator>=3.0.0 in /Users/vlad/opt/anaconda3/lib/python3.9/site-packages (from librosa) (5.1.0)\n",
      "Requirement already satisfied: pooch>=1.0 in /Users/vlad/opt/anaconda3/lib/python3.9/site-packages (from librosa) (1.5.2)\n",
      "Requirement already satisfied: setuptools in /Users/vlad/opt/anaconda3/lib/python3.9/site-packages (from numba>=0.43.0->librosa) (58.0.4)\n",
      "Requirement already satisfied: llvmlite<0.38,>=0.37.0rc1 in /Users/vlad/opt/anaconda3/lib/python3.9/site-packages (from numba>=0.43.0->librosa) (0.37.0)\n",
      "Requirement already satisfied: pyparsing>=2.0.2 in /Users/vlad/opt/anaconda3/lib/python3.9/site-packages (from packaging>=20.0->librosa) (3.0.4)\n",
      "Requirement already satisfied: appdirs in /Users/vlad/opt/anaconda3/lib/python3.9/site-packages (from pooch>=1.0->librosa) (1.4.4)\n",
      "Requirement already satisfied: requests in /Users/vlad/opt/anaconda3/lib/python3.9/site-packages (from pooch>=1.0->librosa) (2.26.0)\n",
      "Requirement already satisfied: six>=1.3 in /Users/vlad/opt/anaconda3/lib/python3.9/site-packages (from resampy>=0.2.2->librosa) (1.16.0)\n",
      "Requirement already satisfied: threadpoolctl>=2.0.0 in /Users/vlad/opt/anaconda3/lib/python3.9/site-packages (from scikit-learn!=0.19.0,>=0.14.0->librosa) (2.2.0)\n",
      "Requirement already satisfied: cffi>=1.0 in /Users/vlad/opt/anaconda3/lib/python3.9/site-packages (from soundfile>=0.10.2->librosa) (1.14.6)\n",
      "Requirement already satisfied: pycparser in /Users/vlad/opt/anaconda3/lib/python3.9/site-packages (from cffi>=1.0->soundfile>=0.10.2->librosa) (2.20)\n",
      "Requirement already satisfied: idna<4,>=2.5 in /Users/vlad/opt/anaconda3/lib/python3.9/site-packages (from requests->pooch>=1.0->librosa) (3.2)\n",
      "Requirement already satisfied: certifi>=2017.4.17 in /Users/vlad/opt/anaconda3/lib/python3.9/site-packages (from requests->pooch>=1.0->librosa) (2021.10.8)\n",
      "Requirement already satisfied: urllib3<1.27,>=1.21.1 in /Users/vlad/opt/anaconda3/lib/python3.9/site-packages (from requests->pooch>=1.0->librosa) (1.26.7)\n",
      "Requirement already satisfied: charset-normalizer~=2.0.0 in /Users/vlad/opt/anaconda3/lib/python3.9/site-packages (from requests->pooch>=1.0->librosa) (2.0.4)\n",
      "Requirement already satisfied: jiwer in /Users/vlad/opt/anaconda3/lib/python3.9/site-packages (2.3.0)\n",
      "Requirement already satisfied: python-Levenshtein==0.12.2 in /Users/vlad/opt/anaconda3/lib/python3.9/site-packages (from jiwer) (0.12.2)\n",
      "Requirement already satisfied: setuptools in /Users/vlad/opt/anaconda3/lib/python3.9/site-packages (from python-Levenshtein==0.12.2->jiwer) (58.0.4)\n"
     ]
    }
   ],
   "source": [
    "!pip install datasets==1.13.3\n",
    "!pip install transformers==4.11.3\n",
    "!pip install huggingface_hub==0.1\n",
    "!pip install torchaudio\n",
    "!pip install librosa\n",
    "!pip install jiwer"
   ]
  },
  {
   "cell_type": "code",
   "execution_count": 2,
   "id": "641563a6",
   "metadata": {},
   "outputs": [],
   "source": [
    "! git config --global credential.helper store"
   ]
  },
  {
   "cell_type": "code",
   "execution_count": 3,
   "id": "91ddc055",
   "metadata": {},
   "outputs": [],
   "source": [
    "# from huggingface_hub import notebook_login\n",
    "\n",
    "# notebook_login()"
   ]
  },
  {
   "cell_type": "code",
   "execution_count": 4,
   "id": "385cdf36",
   "metadata": {
    "scrolled": true
   },
   "outputs": [
    {
     "name": "stdout",
     "output_type": "stream",
     "text": [
      "The operation couldn’t be completed. Unable to locate a Java Runtime.\r\n",
      "Please visit http://www.java.com for information on installing Java.\r\n",
      "\r\n"
     ]
    }
   ],
   "source": [
    "! apt install git-lfs"
   ]
  },
  {
   "cell_type": "markdown",
   "id": "7e84ca6a",
   "metadata": {},
   "source": [
    "### Pick a language to fine-tune XLS-R on"
   ]
  },
  {
   "cell_type": "code",
   "execution_count": 5,
   "id": "226f3588",
   "metadata": {
    "scrolled": true
   },
   "outputs": [
    {
     "name": "stderr",
     "output_type": "stream",
     "text": [
      "Reusing dataset common_voice (/Users/vlad/.cache/huggingface/datasets/common_voice/tr/6.1.0/f7a9d973839b7706e9e281c19b7e512f31badf3c0fdbd21c671f3c4bf9acf3b9)\n",
      "Reusing dataset common_voice (/Users/vlad/.cache/huggingface/datasets/common_voice/tr/6.1.0/f7a9d973839b7706e9e281c19b7e512f31badf3c0fdbd21c671f3c4bf9acf3b9)\n"
     ]
    }
   ],
   "source": [
    "from datasets import load_dataset, load_metric, Audio\n",
    "\n",
    "#TODO: change language to fr\n",
    "common_voice_train = load_dataset(\"common_voice\", \"tr\", split='train[10:20]')\n",
    "common_voice_test = load_dataset(\"common_voice\", \"tr\", split=\"test[10:20]\")"
   ]
  },
  {
   "cell_type": "code",
   "execution_count": 6,
   "id": "400ff34a",
   "metadata": {},
   "outputs": [],
   "source": [
    "common_voice_train = common_voice_train.remove_columns([\"accent\", \"age\", \"client_id\", \"down_votes\", \"gender\", \"locale\", \"segment\", \"up_votes\"])\n",
    "common_voice_test = common_voice_test.remove_columns([\"accent\", \"age\", \"client_id\", \"down_votes\", \"gender\", \"locale\", \"segment\", \"up_votes\"])"
   ]
  },
  {
   "cell_type": "code",
   "execution_count": 7,
   "id": "94b6c330",
   "metadata": {},
   "outputs": [],
   "source": [
    "from datasets import ClassLabel\n",
    "import random\n",
    "import pandas as pd\n",
    "from IPython.display import display, HTML\n",
    "\n",
    "def show_random_elements(dataset, num_examples=10):\n",
    "    assert num_examples <= len(dataset), \"Can't pick more elements than there are in the dataset.\"\n",
    "    picks = []\n",
    "    for _ in range(num_examples):\n",
    "        pick = random.randint(0, len(dataset)-1)\n",
    "        while pick in picks:\n",
    "            pick = random.randint(0, len(dataset)-1)\n",
    "        picks.append(pick)\n",
    "    \n",
    "    df = pd.DataFrame(dataset[picks])\n",
    "    display(HTML(df.to_html()))"
   ]
  },
  {
   "cell_type": "code",
   "execution_count": 8,
   "id": "cf660844",
   "metadata": {
    "scrolled": true
   },
   "outputs": [
    {
     "data": {
      "text/html": [
       "<table border=\"1\" class=\"dataframe\">\n",
       "  <thead>\n",
       "    <tr style=\"text-align: right;\">\n",
       "      <th></th>\n",
       "      <th>path</th>\n",
       "      <th>audio</th>\n",
       "      <th>sentence</th>\n",
       "    </tr>\n",
       "  </thead>\n",
       "  <tbody>\n",
       "    <tr>\n",
       "      <th>0</th>\n",
       "      <td>/Users/vlad/.cache/huggingface/datasets/downloads/extracted/8fdc2904161a080038c306457584465676d675cbcf1b03df8fc4883ac539a9df/cv-corpus-6.1-2020-12-11/tr/clips/common_voice_tr_21921235.mp3</td>\n",
       "      <td>{'path': '/Users/vlad/.cache/huggingface/datasets/downloads/extracted/8fdc2904161a080038c306457584465676d675cbcf1b03df8fc4883ac539a9df/cv-corpus-6.1-2020-12-11/tr/clips/common_voice_tr_21921235.mp3', 'array': [0.0, 0.0, 0.0, 0.0, 0.0, 0.0, 0.0, 0.0, 0.0, 0.0, 0.0, 0.0, 0.0, 0.0, 0.0, 0.0, 0.0, 0.0, 0.0, 0.0, 0.0, 0.0, 0.0, 0.0, 0.0, 0.0, 0.0, 0.0, 0.0, 0.0, 0.0, 0.0, 0.0, 0.0, 0.0, 0.0, 0.0, 0.0, 0.0, 0.0, 0.0, 0.0, 0.0, 0.0, 0.0, 0.0, 0.0, 0.0, 0.0, 0.0, 0.0, 0.0, 0.0, 0.0, 0.0, 0.0, 0.0, 0.0, 0.0, 0.0, 0.0, 0.0, 0.0, 0.0, 0.0, 0.0, 0.0, 0.0, 0.0, 0.0, 0.0, 0.0, 0.0, 0.0, 0.0, 0.0, 0.0, 0.0, 0.0, 0.0, 0.0, 0.0, 0.0, 0.0, 0.0, 0.0, 0.0, 0.0, 0.0, 0.0, 0.0, 0.0, 0.0, 0.0, 0.0, 0.0, 0.0, 0.0, 0.0, 0.0, ...], 'sampling_rate': 48000}</td>\n",
       "      <td>Etkinlikte Arnavut yayınevleri çoğunluktaydı.</td>\n",
       "    </tr>\n",
       "    <tr>\n",
       "      <th>1</th>\n",
       "      <td>/Users/vlad/.cache/huggingface/datasets/downloads/extracted/8fdc2904161a080038c306457584465676d675cbcf1b03df8fc4883ac539a9df/cv-corpus-6.1-2020-12-11/tr/clips/common_voice_tr_21921236.mp3</td>\n",
       "      <td>{'path': '/Users/vlad/.cache/huggingface/datasets/downloads/extracted/8fdc2904161a080038c306457584465676d675cbcf1b03df8fc4883ac539a9df/cv-corpus-6.1-2020-12-11/tr/clips/common_voice_tr_21921236.mp3', 'array': [0.0, 0.0, 0.0, 0.0, 0.0, 0.0, 0.0, 0.0, 0.0, 0.0, 0.0, 0.0, 0.0, 0.0, 0.0, 0.0, 0.0, 0.0, 0.0, 0.0, 0.0, 0.0, 0.0, 0.0, 0.0, 0.0, 0.0, 0.0, 0.0, 0.0, 0.0, 0.0, 0.0, 0.0, 0.0, 0.0, 0.0, 0.0, 0.0, 0.0, 0.0, 0.0, 0.0, 0.0, 0.0, 0.0, 0.0, 0.0, 0.0, 0.0, 0.0, 0.0, 0.0, 0.0, 0.0, 0.0, 0.0, 0.0, 0.0, 0.0, 0.0, 0.0, 0.0, 0.0, 0.0, 0.0, 0.0, 0.0, 0.0, 0.0, 0.0, 0.0, 0.0, 0.0, 0.0, 0.0, 0.0, 0.0, 0.0, 0.0, 0.0, 0.0, 0.0, 0.0, 0.0, 0.0, 0.0, 0.0, 0.0, 0.0, 0.0, 0.0, 0.0, 0.0, 0.0, 0.0, 0.0, 0.0, 0.0, 0.0, ...], 'sampling_rate': 48000}</td>\n",
       "      <td>Yeni reformlar bazı vatandaşları da şaşırtıyor.</td>\n",
       "    </tr>\n",
       "    <tr>\n",
       "      <th>2</th>\n",
       "      <td>/Users/vlad/.cache/huggingface/datasets/downloads/extracted/8fdc2904161a080038c306457584465676d675cbcf1b03df8fc4883ac539a9df/cv-corpus-6.1-2020-12-11/tr/clips/common_voice_tr_21324887.mp3</td>\n",
       "      <td>{'path': '/Users/vlad/.cache/huggingface/datasets/downloads/extracted/8fdc2904161a080038c306457584465676d675cbcf1b03df8fc4883ac539a9df/cv-corpus-6.1-2020-12-11/tr/clips/common_voice_tr_21324887.mp3', 'array': [0.0, 0.0, 0.0, 0.0, 0.0, 0.0, 0.0, 0.0, 0.0, 0.0, 0.0, 0.0, 0.0, 0.0, 0.0, 0.0, 0.0, 0.0, 0.0, 0.0, 0.0, 0.0, 0.0, 0.0, 0.0, 0.0, 0.0, 0.0, 0.0, 0.0, 0.0, 0.0, 0.0, 0.0, 0.0, 0.0, 0.0, 0.0, 0.0, 0.0, 0.0, 0.0, 0.0, 0.0, 0.0, 0.0, 0.0, 0.0, 0.0, 0.0, 0.0, 0.0, 0.0, 0.0, 0.0, 0.0, 0.0, 0.0, 0.0, 0.0, 0.0, 0.0, 0.0, 0.0, 0.0, 0.0, 0.0, 0.0, 0.0, 0.0, 0.0, 0.0, 0.0, 0.0, 0.0, 0.0, 0.0, 0.0, 0.0, 0.0, 0.0, 0.0, 0.0, 0.0, 0.0, 0.0, 0.0, 0.0, 0.0, 0.0, 0.0, 0.0, 0.0, 0.0, 0.0, 0.0, 0.0, 0.0, 0.0, 0.0, ...], 'sampling_rate': 48000}</td>\n",
       "      <td>Sergi üç hafta süreyle açık kalacak.</td>\n",
       "    </tr>\n",
       "    <tr>\n",
       "      <th>3</th>\n",
       "      <td>/Users/vlad/.cache/huggingface/datasets/downloads/extracted/8fdc2904161a080038c306457584465676d675cbcf1b03df8fc4883ac539a9df/cv-corpus-6.1-2020-12-11/tr/clips/common_voice_tr_21324886.mp3</td>\n",
       "      <td>{'path': '/Users/vlad/.cache/huggingface/datasets/downloads/extracted/8fdc2904161a080038c306457584465676d675cbcf1b03df8fc4883ac539a9df/cv-corpus-6.1-2020-12-11/tr/clips/common_voice_tr_21324886.mp3', 'array': [0.0, 0.0, 0.0, 0.0, 0.0, 0.0, 0.0, 0.0, 0.0, 0.0, 0.0, 0.0, 0.0, 0.0, 0.0, 0.0, 0.0, 0.0, 0.0, 0.0, 0.0, 0.0, 0.0, 0.0, 0.0, 0.0, 0.0, 0.0, 0.0, 0.0, 0.0, 0.0, 0.0, 0.0, 0.0, 0.0, 0.0, 0.0, 0.0, 0.0, 0.0, 0.0, 0.0, 0.0, 0.0, 0.0, 0.0, 0.0, 0.0, 0.0, 0.0, 0.0, 0.0, 0.0, 0.0, 0.0, 0.0, 0.0, 0.0, 0.0, 0.0, 0.0, 0.0, 0.0, 0.0, 0.0, 0.0, 0.0, 0.0, 0.0, 0.0, 0.0, 0.0, 0.0, 0.0, 0.0, 0.0, 0.0, 0.0, 0.0, 0.0, 0.0, 0.0, 0.0, 0.0, 0.0, 0.0, 0.0, 0.0, 0.0, 0.0, 0.0, 0.0, 0.0, 0.0, 0.0, 0.0, 0.0, 0.0, 0.0, ...], 'sampling_rate': 48000}</td>\n",
       "      <td>Neden on yıldan uzun bir süre bunun olmasına izin verildi?</td>\n",
       "    </tr>\n",
       "    <tr>\n",
       "      <th>4</th>\n",
       "      <td>/Users/vlad/.cache/huggingface/datasets/downloads/extracted/8fdc2904161a080038c306457584465676d675cbcf1b03df8fc4883ac539a9df/cv-corpus-6.1-2020-12-11/tr/clips/common_voice_tr_21324881.mp3</td>\n",
       "      <td>{'path': '/Users/vlad/.cache/huggingface/datasets/downloads/extracted/8fdc2904161a080038c306457584465676d675cbcf1b03df8fc4883ac539a9df/cv-corpus-6.1-2020-12-11/tr/clips/common_voice_tr_21324881.mp3', 'array': [0.0, 0.0, 0.0, 0.0, 0.0, 0.0, 0.0, 0.0, 0.0, 0.0, 0.0, 0.0, 0.0, 0.0, 0.0, 0.0, 0.0, 0.0, 0.0, 0.0, 0.0, 0.0, 0.0, 0.0, 0.0, 0.0, 0.0, 0.0, 0.0, 0.0, 0.0, 0.0, 0.0, 0.0, 0.0, 0.0, 0.0, 0.0, 0.0, 0.0, 0.0, 0.0, 0.0, 0.0, 0.0, 0.0, 0.0, 0.0, 0.0, 0.0, 0.0, 0.0, 0.0, 0.0, 0.0, 0.0, 0.0, 0.0, 0.0, 0.0, 0.0, 0.0, 0.0, 0.0, 0.0, 0.0, 0.0, 0.0, 0.0, 0.0, 0.0, 0.0, 0.0, 0.0, 0.0, 0.0, 0.0, 0.0, 0.0, 0.0, 0.0, 0.0, 0.0, 0.0, 0.0, 0.0, 0.0, 0.0, 0.0, 0.0, 0.0, 0.0, 0.0, 0.0, 0.0, 0.0, 0.0, 0.0, 0.0, 0.0, ...], 'sampling_rate': 48000}</td>\n",
       "      <td>Bu şüphelere ne yanıt veriyorsunuz?</td>\n",
       "    </tr>\n",
       "    <tr>\n",
       "      <th>5</th>\n",
       "      <td>/Users/vlad/.cache/huggingface/datasets/downloads/extracted/8fdc2904161a080038c306457584465676d675cbcf1b03df8fc4883ac539a9df/cv-corpus-6.1-2020-12-11/tr/clips/common_voice_tr_21324888.mp3</td>\n",
       "      <td>{'path': '/Users/vlad/.cache/huggingface/datasets/downloads/extracted/8fdc2904161a080038c306457584465676d675cbcf1b03df8fc4883ac539a9df/cv-corpus-6.1-2020-12-11/tr/clips/common_voice_tr_21324888.mp3', 'array': [0.0, 0.0, 0.0, 0.0, 0.0, 0.0, 0.0, 0.0, 0.0, 0.0, 0.0, 0.0, 0.0, 0.0, 0.0, 0.0, 0.0, 0.0, 0.0, 0.0, 0.0, 0.0, 0.0, 0.0, 0.0, 0.0, 0.0, 0.0, 0.0, 0.0, 0.0, 0.0, 0.0, 0.0, 0.0, 0.0, 0.0, 0.0, 0.0, 0.0, 0.0, 0.0, 0.0, 0.0, 0.0, 0.0, 0.0, 0.0, 0.0, 0.0, 0.0, 0.0, 0.0, 0.0, 0.0, 0.0, 0.0, 0.0, 0.0, 0.0, 0.0, 0.0, 0.0, 0.0, 0.0, 0.0, 0.0, 0.0, 0.0, 0.0, 0.0, 0.0, 0.0, 0.0, 0.0, 0.0, 0.0, 0.0, 0.0, 0.0, 0.0, 0.0, 0.0, 0.0, 0.0, 0.0, 0.0, 0.0, 0.0, 0.0, 0.0, 0.0, 0.0, 0.0, 0.0, 0.0, 0.0, 0.0, 0.0, 0.0, ...], 'sampling_rate': 48000}</td>\n",
       "      <td>Birbiri ardına istifa ettiler.</td>\n",
       "    </tr>\n",
       "    <tr>\n",
       "      <th>6</th>\n",
       "      <td>/Users/vlad/.cache/huggingface/datasets/downloads/extracted/8fdc2904161a080038c306457584465676d675cbcf1b03df8fc4883ac539a9df/cv-corpus-6.1-2020-12-11/tr/clips/common_voice_tr_21921238.mp3</td>\n",
       "      <td>{'path': '/Users/vlad/.cache/huggingface/datasets/downloads/extracted/8fdc2904161a080038c306457584465676d675cbcf1b03df8fc4883ac539a9df/cv-corpus-6.1-2020-12-11/tr/clips/common_voice_tr_21921238.mp3', 'array': [0.0, 0.0, 0.0, 0.0, 0.0, 0.0, 0.0, 0.0, 0.0, 0.0, 0.0, 0.0, 0.0, 0.0, 0.0, 0.0, 0.0, 0.0, 0.0, 0.0, 0.0, 0.0, 0.0, 0.0, 0.0, 0.0, 0.0, 0.0, 0.0, 0.0, 0.0, 0.0, 0.0, 0.0, 0.0, 0.0, 0.0, 0.0, 0.0, 0.0, 0.0, 0.0, 0.0, 0.0, 0.0, 0.0, 0.0, 0.0, 0.0, 0.0, 0.0, 0.0, 0.0, 0.0, 0.0, 0.0, 0.0, 0.0, 0.0, 0.0, 0.0, 0.0, 0.0, 0.0, 0.0, 0.0, 0.0, 0.0, 0.0, 0.0, 0.0, 0.0, 0.0, 0.0, 0.0, 0.0, 0.0, 0.0, 0.0, 0.0, 0.0, 0.0, 0.0, 0.0, 0.0, 0.0, 0.0, 0.0, 0.0, 0.0, 0.0, 0.0, 0.0, 0.0, 0.0, 0.0, 0.0, 0.0, 0.0, 0.0, ...], 'sampling_rate': 48000}</td>\n",
       "      <td>Medya da ikiye bölünmüş durumda.</td>\n",
       "    </tr>\n",
       "    <tr>\n",
       "      <th>7</th>\n",
       "      <td>/Users/vlad/.cache/huggingface/datasets/downloads/extracted/8fdc2904161a080038c306457584465676d675cbcf1b03df8fc4883ac539a9df/cv-corpus-6.1-2020-12-11/tr/clips/common_voice_tr_21324893.mp3</td>\n",
       "      <td>{'path': '/Users/vlad/.cache/huggingface/datasets/downloads/extracted/8fdc2904161a080038c306457584465676d675cbcf1b03df8fc4883ac539a9df/cv-corpus-6.1-2020-12-11/tr/clips/common_voice_tr_21324893.mp3', 'array': [0.0, 0.0, 0.0, 0.0, 0.0, 0.0, 0.0, 0.0, 0.0, 0.0, 0.0, 0.0, 0.0, 0.0, 0.0, 0.0, 0.0, 0.0, 0.0, 0.0, 0.0, 0.0, 0.0, 0.0, 0.0, 0.0, 0.0, 0.0, 0.0, 0.0, 0.0, 0.0, 0.0, 0.0, 0.0, 0.0, 0.0, 0.0, 0.0, 0.0, 0.0, 0.0, 0.0, 0.0, 0.0, 0.0, 0.0, 0.0, 0.0, 0.0, 0.0, 0.0, 0.0, 0.0, 0.0, 0.0, 0.0, 0.0, 0.0, 0.0, 0.0, 0.0, 0.0, 0.0, 0.0, 0.0, 0.0, 0.0, 0.0, 0.0, 0.0, 0.0, 0.0, 0.0, 0.0, 0.0, 0.0, 0.0, 0.0, 0.0, 0.0, 0.0, 0.0, 0.0, 0.0, 0.0, 0.0, 0.0, 0.0, 0.0, 0.0, 0.0, 0.0, 0.0, 0.0, 0.0, 0.0, 0.0, 0.0, 0.0, ...], 'sampling_rate': 48000}</td>\n",
       "      <td>\"Kosova'da çocuklara yönelik televizyon programları nasıl geliştirilebilir?\"</td>\n",
       "    </tr>\n",
       "    <tr>\n",
       "      <th>8</th>\n",
       "      <td>/Users/vlad/.cache/huggingface/datasets/downloads/extracted/8fdc2904161a080038c306457584465676d675cbcf1b03df8fc4883ac539a9df/cv-corpus-6.1-2020-12-11/tr/clips/common_voice_tr_21325136.mp3</td>\n",
       "      <td>{'path': '/Users/vlad/.cache/huggingface/datasets/downloads/extracted/8fdc2904161a080038c306457584465676d675cbcf1b03df8fc4883ac539a9df/cv-corpus-6.1-2020-12-11/tr/clips/common_voice_tr_21325136.mp3', 'array': [0.0, 0.0, 0.0, 0.0, 0.0, 0.0, 0.0, 0.0, 0.0, 0.0, 0.0, 0.0, 0.0, 0.0, 0.0, 0.0, 0.0, 0.0, 0.0, 0.0, 0.0, 0.0, 0.0, 0.0, 0.0, 0.0, 0.0, 0.0, 0.0, 0.0, 0.0, 0.0, 0.0, 0.0, 0.0, 0.0, 0.0, 0.0, 0.0, 0.0, 0.0, 0.0, 0.0, 0.0, 0.0, 0.0, 0.0, 0.0, 0.0, 0.0, 0.0, 0.0, 0.0, 0.0, 0.0, 0.0, 0.0, 0.0, 0.0, 0.0, 0.0, 0.0, 0.0, 0.0, 0.0, 0.0, 0.0, 0.0, 0.0, 0.0, 0.0, 0.0, 0.0, 0.0, 0.0, 0.0, 0.0, 0.0, 0.0, 0.0, 0.0, 0.0, 0.0, 0.0, 0.0, 0.0, 0.0, 0.0, 0.0, 0.0, 0.0, 0.0, 0.0, 0.0, 0.0, 0.0, 0.0, 0.0, 0.0, 0.0, ...], 'sampling_rate': 48000}</td>\n",
       "      <td>Yetkili bütün görevlerinden azledildi.</td>\n",
       "    </tr>\n",
       "    <tr>\n",
       "      <th>9</th>\n",
       "      <td>/Users/vlad/.cache/huggingface/datasets/downloads/extracted/8fdc2904161a080038c306457584465676d675cbcf1b03df8fc4883ac539a9df/cv-corpus-6.1-2020-12-11/tr/clips/common_voice_tr_21324884.mp3</td>\n",
       "      <td>{'path': '/Users/vlad/.cache/huggingface/datasets/downloads/extracted/8fdc2904161a080038c306457584465676d675cbcf1b03df8fc4883ac539a9df/cv-corpus-6.1-2020-12-11/tr/clips/common_voice_tr_21324884.mp3', 'array': [0.0, 0.0, 0.0, 0.0, 0.0, 0.0, 0.0, 0.0, 0.0, 0.0, 0.0, 0.0, 0.0, 0.0, 0.0, 0.0, 0.0, 0.0, 0.0, 0.0, 0.0, 0.0, 0.0, 0.0, 0.0, 0.0, 0.0, 0.0, 0.0, 0.0, 0.0, 0.0, 0.0, 0.0, 0.0, 0.0, 0.0, 0.0, 0.0, 0.0, 0.0, 0.0, 0.0, 0.0, 0.0, 0.0, 0.0, 0.0, 0.0, 0.0, 0.0, 0.0, 0.0, 0.0, 0.0, 0.0, 0.0, 0.0, 0.0, 0.0, 0.0, 0.0, 0.0, 0.0, 0.0, 0.0, 0.0, 0.0, 0.0, 0.0, 0.0, 0.0, 0.0, 0.0, 0.0, 0.0, 0.0, 0.0, 0.0, 0.0, 0.0, 0.0, 0.0, 0.0, 0.0, 0.0, 0.0, 0.0, 0.0, 0.0, 0.0, 0.0, 0.0, 0.0, 0.0, 0.0, 0.0, 0.0, 0.0, 0.0, ...], 'sampling_rate': 48000}</td>\n",
       "      <td>Peki bu siyasi irade mevcut mu?</td>\n",
       "    </tr>\n",
       "  </tbody>\n",
       "</table>"
      ],
      "text/plain": [
       "<IPython.core.display.HTML object>"
      ]
     },
     "metadata": {},
     "output_type": "display_data"
    }
   ],
   "source": [
    "show_random_elements(common_voice_train)"
   ]
  },
  {
   "cell_type": "markdown",
   "id": "389513ac",
   "metadata": {},
   "source": [
    "We can see that the transcriptions contain some special characters, such as ,.?!;:. Without a language model, it is much harder to classify speech chunks to such special characters because they don't really correspond to a characteristic sound unit. E.g., the letter \"s\" has a more or less clear sound, whereas the special character \".\" does not.\n",
    "\n",
    "Let's simply remove all characters that don't contribute to the meaning of a word and cannot really be represented by an acoustic sound and normalize the text."
   ]
  },
  {
   "cell_type": "code",
   "execution_count": 9,
   "id": "97b8ba29",
   "metadata": {},
   "outputs": [
    {
     "name": "stderr",
     "output_type": "stream",
     "text": [
      "Loading cached processed dataset at /Users/vlad/.cache/huggingface/datasets/common_voice/tr/6.1.0/f7a9d973839b7706e9e281c19b7e512f31badf3c0fdbd21c671f3c4bf9acf3b9/cache-0ba3307add141b55.arrow\n",
      "Loading cached processed dataset at /Users/vlad/.cache/huggingface/datasets/common_voice/tr/6.1.0/f7a9d973839b7706e9e281c19b7e512f31badf3c0fdbd21c671f3c4bf9acf3b9/cache-dbc531d90cf942dc.arrow\n"
     ]
    }
   ],
   "source": [
    "import re\n",
    "chars_to_remove_regex = '[\\,\\?\\.\\!\\-\\;\\:\\\"\\“\\%\\‘\\”\\�\\']'\n",
    "\n",
    "def remove_special_characters(batch):\n",
    "    batch[\"sentence\"] = re.sub(chars_to_remove_regex, '', batch[\"sentence\"]).lower()\n",
    "    return batch\n",
    "\n",
    "common_voice_train = common_voice_train.map(remove_special_characters)\n",
    "common_voice_test = common_voice_test.map(remove_special_characters)"
   ]
  },
  {
   "cell_type": "markdown",
   "id": "76ff139f",
   "metadata": {},
   "source": [
    "\"hatted\" characters - like â - aren't really used anymore in Turkish and can be replaced by their \"un-hatted\" equivalent, e.g. a.\n",
    "\n",
    "Let's write another short mapping function to further simplify the text labels. Remember, the simpler the text labels, the easier it is for the model to learn to predict those labels."
   ]
  },
  {
   "cell_type": "code",
   "execution_count": 10,
   "id": "25a421bf",
   "metadata": {},
   "outputs": [],
   "source": [
    "def replace_hatted_characters(batch):\n",
    "    batch[\"sentence\"] = re.sub('[â]', 'a', batch[\"sentence\"])\n",
    "    batch[\"sentence\"] = re.sub('[î]', 'i', batch[\"sentence\"])\n",
    "    batch[\"sentence\"] = re.sub('[ô]', 'o', batch[\"sentence\"])\n",
    "    batch[\"sentence\"] = re.sub('[û]', 'u', batch[\"sentence\"])\n",
    "    return batch"
   ]
  },
  {
   "cell_type": "code",
   "execution_count": 11,
   "id": "d5ef75cb",
   "metadata": {},
   "outputs": [
    {
     "name": "stderr",
     "output_type": "stream",
     "text": [
      "Loading cached processed dataset at /Users/vlad/.cache/huggingface/datasets/common_voice/tr/6.1.0/f7a9d973839b7706e9e281c19b7e512f31badf3c0fdbd21c671f3c4bf9acf3b9/cache-f83b36e7fd63ab5a.arrow\n",
      "Loading cached processed dataset at /Users/vlad/.cache/huggingface/datasets/common_voice/tr/6.1.0/f7a9d973839b7706e9e281c19b7e512f31badf3c0fdbd21c671f3c4bf9acf3b9/cache-192d5f526381450c.arrow\n"
     ]
    }
   ],
   "source": [
    "common_voice_train = common_voice_train.map(replace_hatted_characters)\n",
    "common_voice_test = common_voice_test.map(replace_hatted_characters)"
   ]
  },
  {
   "cell_type": "markdown",
   "id": "bff68e3a",
   "metadata": {},
   "source": [
    "In CTC, it is common to classify speech chunks into letters, so we will do the same here. Let's extract all distinct letters of the training and test data and build our vocabulary from this set of letters.\n",
    "\n",
    "We write a mapping function that concatenates all transcriptions into one long transcription and then transforms the string into a set of chars. It is important to pass the argument batched=True to the map(...) function so that the mapping function has access to all transcriptions at once."
   ]
  },
  {
   "cell_type": "code",
   "execution_count": 12,
   "id": "3cfb580f",
   "metadata": {},
   "outputs": [
    {
     "data": {
      "application/vnd.jupyter.widget-view+json": {
       "model_id": "aeec916791e0408794509844458bdb8c",
       "version_major": 2,
       "version_minor": 0
      },
      "text/plain": [
       "  0%|          | 0/1 [00:00<?, ?ba/s]"
      ]
     },
     "metadata": {},
     "output_type": "display_data"
    },
    {
     "data": {
      "application/vnd.jupyter.widget-view+json": {
       "model_id": "99b17e2f8ce54ea688f8458feef50980",
       "version_major": 2,
       "version_minor": 0
      },
      "text/plain": [
       "  0%|          | 0/1 [00:00<?, ?ba/s]"
      ]
     },
     "metadata": {},
     "output_type": "display_data"
    }
   ],
   "source": [
    "def extract_all_chars(batch):\n",
    "    all_text = \" \".join(batch[\"sentence\"])\n",
    "    vocab = list(set(all_text))\n",
    "    return {\"vocab\": [vocab], \"all_text\": [all_text]}\n",
    "\n",
    "vocab_train = common_voice_train.map(extract_all_chars, batched=True, batch_size=-1, keep_in_memory=True, remove_columns=common_voice_train.column_names)\n",
    "vocab_test = common_voice_test.map(extract_all_chars, batched=True, batch_size=-1, keep_in_memory=True, remove_columns=common_voice_test.column_names)"
   ]
  },
  {
   "cell_type": "code",
   "execution_count": 13,
   "id": "79678471",
   "metadata": {},
   "outputs": [
    {
     "data": {
      "text/plain": [
       "{'a': 1,\n",
       " 'b': 2,\n",
       " 'c': 3,\n",
       " 'd': 4,\n",
       " 'e': 5,\n",
       " 'f': 6,\n",
       " 'g': 7,\n",
       " 'h': 8,\n",
       " 'i': 9,\n",
       " 'k': 10,\n",
       " 'l': 11,\n",
       " 'm': 12,\n",
       " 'n': 13,\n",
       " 'o': 14,\n",
       " 'p': 15,\n",
       " 'r': 16,\n",
       " 's': 17,\n",
       " 't': 18,\n",
       " 'u': 19,\n",
       " 'v': 20,\n",
       " 'y': 21,\n",
       " 'z': 22,\n",
       " 'ç': 23,\n",
       " 'ö': 24,\n",
       " 'ü': 25,\n",
       " 'ğ': 26,\n",
       " 'ı': 27,\n",
       " 'ş': 28,\n",
       " '̇': 29,\n",
       " '|': 0,\n",
       " '[UNK]': 30,\n",
       " '[PAD]': 31}"
      ]
     },
     "execution_count": 13,
     "metadata": {},
     "output_type": "execute_result"
    }
   ],
   "source": [
    "vocab_list = list(set(vocab_train[\"vocab\"][0]) | set(vocab_test[\"vocab\"][0]))\n",
    "vocab_dict = {v: k for k, v in enumerate(sorted(vocab_list))}\n",
    "\n",
    "vocab_dict[\"|\"] = vocab_dict[\" \"]\n",
    "del vocab_dict[\" \"]\n",
    "vocab_dict[\"[UNK]\"] = len(vocab_dict)\n",
    "vocab_dict[\"[PAD]\"] = len(vocab_dict)\n",
    "\n",
    "vocab_dict"
   ]
  },
  {
   "cell_type": "markdown",
   "id": "25a5ad18",
   "metadata": {},
   "source": [
    "One should always keep in mind that pre-processing is a very important step before training your model. E.g., we don't want our model to differentiate between a and A just because we forgot to normalize the data. The difference between a and A does not depend on the \"sound\" of the letter at all, but more on grammatical rules - e.g. use a capitalized letter at the beginning of the sentence."
   ]
  },
  {
   "cell_type": "markdown",
   "id": "d17694f2",
   "metadata": {},
   "source": [
    "Cool, now our vocabulary is complete and consists of 32 tokens, which means that the linear layer that we will add on top of the pretrained XLS-R checkpoint will have an output dimension of 32."
   ]
  },
  {
   "cell_type": "markdown",
   "id": "eaa1e293",
   "metadata": {},
   "source": [
    "### Let's now save the vocabulary as a json file."
   ]
  },
  {
   "cell_type": "code",
   "execution_count": 14,
   "id": "0f7deda8",
   "metadata": {
    "scrolled": true
   },
   "outputs": [],
   "source": [
    "# ! brew install git-lfs"
   ]
  },
  {
   "cell_type": "code",
   "execution_count": 15,
   "id": "bae36c8f",
   "metadata": {},
   "outputs": [],
   "source": [
    "import json\n",
    "with open('vocab.json', 'w') as vocab_file:\n",
    "    json.dump(vocab_dict, vocab_file)"
   ]
  },
  {
   "cell_type": "code",
   "execution_count": 16,
   "id": "a745e574",
   "metadata": {},
   "outputs": [
    {
     "name": "stderr",
     "output_type": "stream",
     "text": [
      "file ./config.json not found\n",
      "Special tokens have been added in the vocabulary, make sure the associated word embeddings are fine-tuned or trained.\n"
     ]
    }
   ],
   "source": [
    "from transformers import Wav2Vec2CTCTokenizer\n",
    "\n",
    "tokenizer = Wav2Vec2CTCTokenizer.from_pretrained(\"./\", unk_token=\"[UNK]\", pad_token=\"[PAD]\", word_delimiter_token=\"|\")"
   ]
  },
  {
   "cell_type": "code",
   "execution_count": 17,
   "id": "2161406c",
   "metadata": {},
   "outputs": [],
   "source": [
    "from transformers import Wav2Vec2FeatureExtractor\n",
    "\n",
    "feature_extractor = Wav2Vec2FeatureExtractor(feature_size=1, sampling_rate=16000, padding_value=0.0, do_normalize=True, return_attention_mask=True)"
   ]
  },
  {
   "cell_type": "code",
   "execution_count": 18,
   "id": "d2f4b603",
   "metadata": {},
   "outputs": [],
   "source": [
    "from transformers import Wav2Vec2Processor\n",
    "\n",
    "processor = Wav2Vec2Processor(feature_extractor=feature_extractor, tokenizer=tokenizer)"
   ]
  },
  {
   "cell_type": "markdown",
   "id": "6f0e0da0",
   "metadata": {},
   "source": [
    "### In the example above we can see that the audio data is loaded with a sampling rate of 48kHz whereas 16kHz are expected by the model."
   ]
  },
  {
   "cell_type": "code",
   "execution_count": 19,
   "id": "26dffaca",
   "metadata": {},
   "outputs": [],
   "source": [
    "common_voice_train = common_voice_train.cast_column(\"audio\", Audio(sampling_rate=16_000))\n",
    "common_voice_test = common_voice_test.cast_column(\"audio\", Audio(sampling_rate=16_000))"
   ]
  },
  {
   "cell_type": "code",
   "execution_count": 20,
   "id": "914c7c28",
   "metadata": {},
   "outputs": [
    {
     "name": "stdout",
     "output_type": "stream",
     "text": [
      "medya da ikiye bölünmüş durumda\n"
     ]
    },
    {
     "data": {
      "text/html": [
       "\n",
       "                <audio  controls=\"controls\" autoplay=\"autoplay\">\n",
       "                    <source src=\"data:audio/wav;base64,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\" type=\"audio/wav\" />\n",
       "                    Your browser does not support the audio element.\n",
       "                </audio>\n",
       "              "
      ],
      "text/plain": [
       "<IPython.lib.display.Audio object>"
      ]
     },
     "execution_count": 20,
     "metadata": {},
     "output_type": "execute_result"
    }
   ],
   "source": [
    "import IPython.display as ipd\n",
    "import numpy as np\n",
    "import random\n",
    "\n",
    "rand_int = random.randint(0, len(common_voice_train)-1)\n",
    "\n",
    "print(common_voice_train[rand_int][\"sentence\"])\n",
    "ipd.Audio(data=common_voice_train[rand_int][\"audio\"][\"array\"], autoplay=True, rate=16000)"
   ]
  },
  {
   "cell_type": "code",
   "execution_count": 21,
   "id": "2388c39b",
   "metadata": {},
   "outputs": [
    {
     "name": "stdout",
     "output_type": "stream",
     "text": [
      "Target text: birbiri ardına istifa ettiler\n",
      "Input array shape: (62976,)\n",
      "Sampling rate: 16000\n"
     ]
    }
   ],
   "source": [
    "rand_int = random.randint(0, len(common_voice_train)-1)\n",
    "\n",
    "print(\"Target text:\", common_voice_train[rand_int][\"sentence\"])\n",
    "print(\"Input array shape:\", common_voice_train[rand_int][\"audio\"][\"array\"].shape)\n",
    "print(\"Sampling rate:\", common_voice_train[rand_int][\"audio\"][\"sampling_rate\"])"
   ]
  },
  {
   "cell_type": "markdown",
   "id": "ee5d09f4",
   "metadata": {},
   "source": [
    "### Prepare Dataset"
   ]
  },
  {
   "cell_type": "code",
   "execution_count": 22,
   "id": "ad271aa2",
   "metadata": {},
   "outputs": [],
   "source": [
    "def prepare_dataset(batch):\n",
    "    audio = batch[\"audio\"]\n",
    "\n",
    "    # batched output is \"un-batched\"\n",
    "    batch[\"input_values\"] = processor(audio[\"array\"], sampling_rate=audio[\"sampling_rate\"]).input_values[0]\n",
    "    batch[\"input_length\"] = len(batch[\"input_values\"])\n",
    "    \n",
    "    with processor.as_target_processor():\n",
    "        batch[\"labels\"] = processor(batch[\"sentence\"]).input_ids\n",
    "    return batch\n"
   ]
  },
  {
   "cell_type": "code",
   "execution_count": 23,
   "id": "a77d5934",
   "metadata": {},
   "outputs": [
    {
     "data": {
      "application/vnd.jupyter.widget-view+json": {
       "model_id": "0f88a9e7d6ab49dcadeccae91bd9c0d5",
       "version_major": 2,
       "version_minor": 0
      },
      "text/plain": [
       "  0%|          | 0/10 [00:00<?, ?ex/s]"
      ]
     },
     "metadata": {},
     "output_type": "display_data"
    },
    {
     "name": "stderr",
     "output_type": "stream",
     "text": [
      "Loading cached processed dataset at /Users/vlad/.cache/huggingface/datasets/common_voice/tr/6.1.0/f7a9d973839b7706e9e281c19b7e512f31badf3c0fdbd21c671f3c4bf9acf3b9/cache-c44d30de5c484e15.arrow\n"
     ]
    }
   ],
   "source": [
    "common_voice_train = common_voice_train.map(prepare_dataset, remove_columns=common_voice_train.column_names)\n",
    "common_voice_test = common_voice_test.map(prepare_dataset, remove_columns=common_voice_test.column_names)"
   ]
  },
  {
   "cell_type": "markdown",
   "id": "46d15001",
   "metadata": {},
   "source": [
    "### Set-up Trainer"
   ]
  },
  {
   "cell_type": "code",
   "execution_count": 24,
   "id": "922a701b",
   "metadata": {},
   "outputs": [],
   "source": [
    "import torch\n",
    "\n",
    "from dataclasses import dataclass, field\n",
    "from typing import Any, Dict, List, Optional, Union\n",
    "\n",
    "@dataclass\n",
    "class DataCollatorCTCWithPadding:\n",
    "    \"\"\"\n",
    "    Data collator that will dynamically pad the inputs received.\n",
    "    Args:\n",
    "        processor (:class:`~transformers.Wav2Vec2Processor`)\n",
    "            The processor used for proccessing the data.\n",
    "        padding (:obj:`bool`, :obj:`str` or :class:`~transformers.tokenization_utils_base.PaddingStrategy`, `optional`, defaults to :obj:`True`):\n",
    "            Select a strategy to pad the returned sequences (according to the model's padding side and padding index)\n",
    "            among:\n",
    "            * :obj:`True` or :obj:`'longest'`: Pad to the longest sequence in the batch (or no padding if only a single\n",
    "              sequence if provided).\n",
    "            * :obj:`'max_length'`: Pad to a maximum length specified with the argument :obj:`max_length` or to the\n",
    "              maximum acceptable input length for the model if that argument is not provided.\n",
    "            * :obj:`False` or :obj:`'do_not_pad'` (default): No padding (i.e., can output a batch with sequences of\n",
    "              different lengths).\n",
    "    \"\"\"\n",
    "\n",
    "    processor: Wav2Vec2Processor\n",
    "    padding: Union[bool, str] = True\n",
    "\n",
    "    def __call__(self, features: List[Dict[str, Union[List[int], torch.Tensor]]]) -> Dict[str, torch.Tensor]:\n",
    "        # split inputs and labels since they have to be of different lenghts and need\n",
    "        # different padding methods\n",
    "        input_features = [{\"input_values\": feature[\"input_values\"]} for feature in features]\n",
    "        label_features = [{\"input_ids\": feature[\"labels\"]} for feature in features]\n",
    "\n",
    "        batch = self.processor.pad(\n",
    "            input_features,\n",
    "            padding=self.padding,\n",
    "            return_tensors=\"pt\",\n",
    "        )\n",
    "        with self.processor.as_target_processor():\n",
    "            labels_batch = self.processor.pad(\n",
    "                label_features,\n",
    "                padding=self.padding,\n",
    "                return_tensors=\"pt\",\n",
    "            )\n",
    "\n",
    "        # replace padding with -100 to ignore loss correctly\n",
    "        labels = labels_batch[\"input_ids\"].masked_fill(labels_batch.attention_mask.ne(1), -100)\n",
    "\n",
    "        batch[\"labels\"] = labels\n",
    "\n",
    "        return batch"
   ]
  },
  {
   "cell_type": "code",
   "execution_count": 25,
   "id": "6903e920",
   "metadata": {},
   "outputs": [],
   "source": [
    "data_collator = DataCollatorCTCWithPadding(processor=processor, padding=True)"
   ]
  },
  {
   "cell_type": "markdown",
   "id": "d9fa8565",
   "metadata": {},
   "source": [
    "### Metrics"
   ]
  },
  {
   "cell_type": "code",
   "execution_count": 26,
   "id": "d2f9a085",
   "metadata": {},
   "outputs": [],
   "source": [
    "wer_metric = load_metric(\"wer\")"
   ]
  },
  {
   "cell_type": "code",
   "execution_count": 27,
   "id": "69805452",
   "metadata": {},
   "outputs": [],
   "source": [
    "def compute_metrics(pred):\n",
    "    pred_logits = pred.predictions\n",
    "    pred_ids = np.argmax(pred_logits, axis=-1)\n",
    "\n",
    "    pred.label_ids[pred.label_ids == -100] = processor.tokenizer.pad_token_id\n",
    "\n",
    "    pred_str = processor.batch_decode(pred_ids)\n",
    "    # we do not want to group tokens when computing the metrics\n",
    "    label_str = processor.batch_decode(pred.label_ids, group_tokens=False)\n",
    "\n",
    "    wer = wer_metric.compute(predictions=pred_str, references=label_str)\n",
    "\n",
    "    return {\"wer\": wer}"
   ]
  },
  {
   "cell_type": "code",
   "execution_count": 28,
   "id": "c73f37a1",
   "metadata": {},
   "outputs": [
    {
     "name": "stderr",
     "output_type": "stream",
     "text": [
      "Some weights of the model checkpoint at facebook/wav2vec2-xls-r-300m were not used when initializing Wav2Vec2ForCTC: ['quantizer.weight_proj.bias', 'project_q.bias', 'quantizer.weight_proj.weight', 'project_hid.weight', 'quantizer.codevectors', 'project_hid.bias', 'project_q.weight']\n",
      "- This IS expected if you are initializing Wav2Vec2ForCTC from the checkpoint of a model trained on another task or with another architecture (e.g. initializing a BertForSequenceClassification model from a BertForPreTraining model).\n",
      "- This IS NOT expected if you are initializing Wav2Vec2ForCTC from the checkpoint of a model that you expect to be exactly identical (initializing a BertForSequenceClassification model from a BertForSequenceClassification model).\n",
      "Some weights of Wav2Vec2ForCTC were not initialized from the model checkpoint at facebook/wav2vec2-xls-r-300m and are newly initialized: ['lm_head.bias', 'lm_head.weight']\n",
      "You should probably TRAIN this model on a down-stream task to be able to use it for predictions and inference.\n"
     ]
    }
   ],
   "source": [
    "from transformers import Wav2Vec2ForCTC\n",
    "\n",
    "model = Wav2Vec2ForCTC.from_pretrained(\n",
    "    \"facebook/wav2vec2-xls-r-300m\", \n",
    "    attention_dropout=0.0,\n",
    "    hidden_dropout=0.0,\n",
    "    feat_proj_dropout=0.0,\n",
    "    mask_time_prob=0.05,\n",
    "    layerdrop=0.0,\n",
    "    ctc_loss_reduction=\"mean\", \n",
    "    pad_token_id=processor.tokenizer.pad_token_id,\n",
    "    vocab_size=len(processor.tokenizer),\n",
    ")\n",
    "\n",
    "model.freeze_feature_extractor()"
   ]
  },
  {
   "cell_type": "code",
   "execution_count": 33,
   "id": "782eac40",
   "metadata": {},
   "outputs": [
    {
     "name": "stderr",
     "output_type": "stream",
     "text": [
      "PyTorch: setting up devices\n",
      "The default value for the training argument `--report_to` will change in v5 (from all installed integrations to none). In v5, you will need to use `--report_to all` to get the same behavior as now. You should start updating your code and make this info disappear :-).\n"
     ]
    }
   ],
   "source": [
    "from transformers import TrainingArguments\n",
    "\n",
    "training_args = TrainingArguments(\n",
    "  output_dir='./',\n",
    "  group_by_length=True,\n",
    "  per_device_train_batch_size=16,\n",
    "  gradient_accumulation_steps=2,\n",
    "  evaluation_strategy=\"steps\",\n",
    "  num_train_epochs=30,\n",
    "  gradient_checkpointing=True,\n",
    "#   fp16=True,\n",
    "  save_steps=400,\n",
    "  eval_steps=400,\n",
    "  logging_steps=400,\n",
    "  learning_rate=3e-4,\n",
    "  warmup_steps=500,\n",
    "  save_total_limit=2,\n",
    "  push_to_hub=False,\n",
    ")"
   ]
  },
  {
   "cell_type": "code",
   "execution_count": 34,
   "id": "5fc2c9a2",
   "metadata": {},
   "outputs": [],
   "source": [
    "from transformers import Trainer\n",
    "\n",
    "trainer = Trainer(\n",
    "    model=model,\n",
    "    data_collator=data_collator,\n",
    "    args=training_args,\n",
    "    compute_metrics=compute_metrics,\n",
    "    train_dataset=common_voice_train,\n",
    "    eval_dataset=common_voice_test,\n",
    "    tokenizer=processor.feature_extractor,\n",
    ")"
   ]
  },
  {
   "cell_type": "code",
   "execution_count": null,
   "id": "39b3c99d",
   "metadata": {},
   "outputs": [
    {
     "name": "stderr",
     "output_type": "stream",
     "text": [
      "The following columns in the training set  don't have a corresponding argument in `Wav2Vec2ForCTC.forward` and have been ignored: input_length.\n",
      "***** Running training *****\n",
      "  Num examples = 10\n",
      "  Num Epochs = 30\n",
      "  Instantaneous batch size per device = 16\n",
      "  Total train batch size (w. parallel, distributed & accumulation) = 32\n",
      "  Gradient Accumulation steps = 2\n",
      "  Total optimization steps = 30\n",
      "/Users/vlad/opt/anaconda3/lib/python3.9/site-packages/transformers/feature_extraction_utils.py:158: UserWarning: Creating a tensor from a list of numpy.ndarrays is extremely slow. Please consider converting the list to a single numpy.ndarray with numpy.array() before converting to a tensor. (Triggered internally at  ../torch/csrc/utils/tensor_new.cpp:201.)\n",
      "  tensor = as_tensor(value)\n",
      "/Users/vlad/opt/anaconda3/lib/python3.9/site-packages/transformers/models/wav2vec2/modeling_wav2vec2.py:882: UserWarning: __floordiv__ is deprecated, and its behavior will change in a future version of pytorch. It currently rounds toward 0 (like the 'trunc' function NOT 'floor'). This results in incorrect rounding for negative values. To keep the current behavior, use torch.div(a, b, rounding_mode='trunc'), or for actual floor division, use torch.div(a, b, rounding_mode='floor').\n",
      "  return (input_length - kernel_size) // stride + 1\n",
      "/Users/vlad/opt/anaconda3/lib/python3.9/site-packages/torch/autocast_mode.py:141: UserWarning: User provided device_type of 'cuda', but CUDA is not available. Disabling\n",
      "  warnings.warn('User provided device_type of \\'cuda\\', but CUDA is not available. Disabling')\n"
     ]
    }
   ],
   "source": [
    "trainer.train()"
   ]
  },
  {
   "cell_type": "markdown",
   "id": "020c6a9a",
   "metadata": {},
   "source": [
    "### Evaluation"
   ]
  },
  {
   "cell_type": "code",
   "execution_count": null,
   "id": "554547e1",
   "metadata": {},
   "outputs": [],
   "source": [
    "input_dict = processor(common_voice_test[0][\"input_values\"], return_tensors=\"pt\", padding=True)\n",
    "\n",
    "logits = model(input_dict.input_values.to(\"cuda\")).logits\n",
    "\n",
    "pred_ids = torch.argmax(logits, dim=-1)[0]"
   ]
  },
  {
   "cell_type": "code",
   "execution_count": null,
   "id": "f819f59c",
   "metadata": {},
   "outputs": [],
   "source": [
    "common_voice_test_transcription = load_dataset(\"common_voice\", \"tr\", data_dir=\"./cv-corpus-6.1-2020-12-11\", split=\"test\")"
   ]
  },
  {
   "cell_type": "code",
   "execution_count": null,
   "id": "b8fcbc69",
   "metadata": {},
   "outputs": [],
   "source": [
    "print(\"Prediction:\")\n",
    "print(processor.decode(pred_ids))\n",
    "\n",
    "print(\"\\nReference:\")\n",
    "print(common_voice_test_transcription[0][\"sentence\"].lower())"
   ]
  },
  {
   "cell_type": "code",
   "execution_count": null,
   "id": "e50cecf8",
   "metadata": {},
   "outputs": [],
   "source": []
  },
  {
   "cell_type": "code",
   "execution_count": null,
   "id": "147828f7",
   "metadata": {},
   "outputs": [],
   "source": []
  },
  {
   "cell_type": "code",
   "execution_count": null,
   "id": "d4292521",
   "metadata": {},
   "outputs": [],
   "source": []
  }
 ],
 "metadata": {
  "kernelspec": {
   "display_name": "Python 3 (ipykernel)",
   "language": "python",
   "name": "python3"
  },
  "language_info": {
   "codemirror_mode": {
    "name": "ipython",
    "version": 3
   },
   "file_extension": ".py",
   "mimetype": "text/x-python",
   "name": "python",
   "nbconvert_exporter": "python",
   "pygments_lexer": "ipython3",
   "version": "3.9.7"
  }
 },
 "nbformat": 4,
 "nbformat_minor": 5
}
